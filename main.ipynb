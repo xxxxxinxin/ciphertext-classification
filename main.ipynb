{
 "cells": [
  {
   "cell_type": "markdown",
   "metadata": {},
   "source": [
    "### Read training, dev and unlabeled test data"
   ]
  },
  {
   "cell_type": "markdown",
   "metadata": {},
   "source": [
    "The following provides a starting code (Python 3) of how to read the labeled training and dev cipher text, and unlabeled test cipher text, into lists."
   ]
  },
  {
   "cell_type": "code",
   "execution_count": 109,
   "metadata": {},
   "outputs": [],
   "source": [
    "train, dev, test = [], [], []"
   ]
  },
  {
   "cell_type": "code",
   "execution_count": 110,
   "metadata": {},
   "outputs": [
    {
     "name": "stdout",
     "output_type": "stream",
     "text": [
      "16220\n",
      "[[0, 'lkêcê yoúc cêêö y#êjl lw mówám Újám j Úêê# ütlk Úol lkêú z#ê ctöé8ú ówl xoóóú éê#xw#öê#c .'], [0, '6êcétlê jolêot8 zc éê#xw#öjóáê , tl zc j #jlkê# 8tcl8êcc jöÚ8ê 6wüó lkê öt668ê wx lkê #wj6 , ükê#ê lkê lkêöjltá t#wótêc j#ê lww wÚ2twoc jó6 lkê cê+oj8 éw8tltác lww cöoy .'], [0, 'tx lktc kw8t6jú öw2tê tc coééwcê6 lw Úê j ytxl , cwöêÚw6ú oóü#jééê6 tl êj#8ú , lwwm wol j88 lkê yww6 cloxx , jó6 8êxl Úêktó6 lkê á#jé ( 8tlê#j88ú ) .']]\n"
     ]
    }
   ],
   "source": [
    "for x in open('./train_enc.tsv', encoding='utf-8'):\n",
    "    x = x.rstrip('\\n\\r').split('\\t')\n",
    "    # x[0] will be the label (0 or 1), and x[1] will be the ciphertext sentence.\n",
    "    x[0] = int(x[0]) \n",
    "    train.append(x)\n",
    "print (len(train))\n",
    "print (train[:3])"
   ]
  },
  {
   "cell_type": "code",
   "execution_count": 111,
   "metadata": {},
   "outputs": [
    {
     "name": "stdout",
     "output_type": "stream",
     "text": [
      "2027\n",
      "[[1, 'ów8jó Ú#j2ê8ú l#êj6c ükê#ê xêü jöê#tájó xt8öc 6j#ê lw 6ê82ê 77 tólw lkê üw#86 wx jöÚt2j8êóáê jó6 jöÚtyotlú <<<'], [0, 'ê2êó öo#ékú zc ê+éê#l áwötá ltötóy jó6 xjöê6 ákj#tcöj áj ózl #êcáoê lktc êxxw#l .'], [1, 'üt88 jcco#ê68ú #jóm jc wóê wx lkê á8ê2ê#êcl , öwcl 6êáêélt2ê8ú jöoctóy áwöê6têc wx lkê úêj# .']]\n"
     ]
    }
   ],
   "source": [
    "for x in open('./dev_enc.tsv', encoding='utf-8'):\n",
    "    x = x.rstrip('\\n\\r').split('\\t')\n",
    "    # x[0] will be the label (0 or 1), and x[1] will be the ciphertext sentence.\n",
    "    x[0] = int(x[0]) \n",
    "    dev.append(x)\n",
    "print (len(dev))\n",
    "print (dev[:3])"
   ]
  },
  {
   "cell_type": "markdown",
   "metadata": {},
   "source": [
    "#### Different from 'train' and 'dev' that are both list of tuples, 'test' will be just a list."
   ]
  },
  {
   "cell_type": "code",
   "execution_count": 112,
   "metadata": {},
   "outputs": [
    {
     "name": "stdout",
     "output_type": "stream",
     "text": [
      "2028\n",
      "['j 6t6jáltá jó6 6o88 6wáoöêólj#ú y8w#txútóy cwxlüj#ê jój#ákú .', 'ówlktóy cltámc , #êj88ú , ê+áêél j 8tóyê#tóy á#êêétóêcc wóê xêê8c x#wö Úêtóy 6#jyyê6 lk#woyk j cj6 , cw#6t6 oót2ê#cê wx yoóc , 6#oyc , j2j#táê jó6 6jöjyê6 6#êjöc .', 'öo#ékú jó6 üt8cwó jáloj88ú öjmê j é#êllú yww6 lêjö <<< Úol lkê é#wvêál co##woó6tóy lkêö tc 6tcl#êcctóy8ú #wlê .']\n"
     ]
    }
   ],
   "source": [
    "for x in open('./test_enc_unlabeled.tsv', encoding='utf-8'):\n",
    "    x = x.rstrip('\\n\\r')\n",
    "    test.append(x)\n",
    "print (len(test))\n",
    "print (test[:3])"
   ]
  },
  {
   "cell_type": "markdown",
   "metadata": {},
   "source": [
    "#### You can split every sentence into lists of words by white spaces."
   ]
  },
  {
   "cell_type": "code",
   "execution_count": 113,
   "metadata": {},
   "outputs": [
    {
     "name": "stdout",
     "output_type": "stream",
     "text": [
      "[0, ['6êcétlê', 'jolêot8', 'zc', 'éê#xw#öjóáê', ',', 'tl', 'zc', 'j', '#jlkê#', '8tcl8êcc', 'jöÚ8ê', '6wüó', 'lkê', 'öt668ê', 'wx', 'lkê', '#wj6', ',', 'ükê#ê', 'lkê', 'lkêöjltá', 't#wótêc', 'j#ê', 'lww', 'wÚ2twoc', 'jó6', 'lkê', 'cê+oj8', 'éw8tltác', 'lww', 'cöoy', '.']]\n",
      "16220\n",
      "['j', '6t6jáltá', 'jó6', '6o88', '6wáoöêólj#ú', 'y8w#txútóy', 'cwxlüj#ê', 'jój#ákú', '.']\n"
     ]
    }
   ],
   "source": [
    "train_split = [[x[0], x[1].split(' ')] for x in train]\n",
    "dev_split = [[x[0], x[1].split(' ')] for x in dev]\n",
    "test_split = [x.split(' ') for x in test]\n",
    "print(train_split[1])\n",
    "print(len(train_split))\n",
    "print(test_split[0])"
   ]
  },
  {
   "cell_type": "markdown",
   "metadata": {},
   "source": [
    "### Main Code Body"
   ]
  },
  {
   "cell_type": "markdown",
   "metadata": {},
   "source": [
    "You may choose to experiment with different methods using your program. However, you need to embed the training and inference processes at here. We will use your prediction on the unlabeled test data to grade, while checking this part to understand how your method has produced the predictions."
   ]
  },
  {
   "cell_type": "code",
   "execution_count": 114,
   "metadata": {},
   "outputs": [],
   "source": [
    "# Eventually, results need to be a list of 2028 0 or 1's\n",
    "results = []"
   ]
  },
  {
   "cell_type": "code",
   "execution_count": 115,
   "metadata": {},
   "outputs": [
    {
     "name": "stdout",
     "output_type": "stream",
     "text": [
      "16220\n"
     ]
    }
   ],
   "source": [
    "from gensim.models import word2vec\n",
    "import os\n",
    "\n",
    "def train_word2vec(x):\n",
    "    model = word2vec.Word2Vec(x, vector_size=250, window=5, min_count=5, workers=12, epochs=10, sg=1)\n",
    "    return model\n",
    "\n",
    "def parse_data_with_label(data_list):\n",
    "    data = list()\n",
    "    label = list()\n",
    "    for raw_data in data_list:\n",
    "        label.append(raw_data[0])\n",
    "        data.append(raw_data[1])\n",
    "    return data,label\n",
    "\n",
    "train_data,train_label = parse_data_with_label(train_split)\n",
    "\n",
    "dev_data, dev_label = parse_data_with_label(dev_split)\n",
    "\n",
    "test_data = test_split\n",
    "\n",
    "model = train_word2vec(train_data+dev_data+test_split)\n",
    "\n",
    "model.save(\"word2vec.model\")\n",
    "\n",
    "print(len(train_data))\n"
   ]
  },
  {
   "cell_type": "code",
   "execution_count": 116,
   "metadata": {},
   "outputs": [],
   "source": [
    "from torch import nn\n",
    "from gensim.models import word2vec\n",
    "class Preprocess():\n",
    "    def __init__(self, sentences, sen_len, path=\"./word2vec.model\"):\n",
    "        self.path = path\n",
    "        self.sentences = sentences\n",
    "        self.sen_len = sen_len\n",
    "        self.idx2word = list()\n",
    "        self.word2idx = dict()\n",
    "        self.embedding_matrix = list()\n",
    "        \n",
    "    def get_model(self):\n",
    "        self.embedding = word2vec.Word2Vec.load(self.path)\n",
    "        self.embedding_dim = self.embedding.vector_size\n",
    "        \n",
    "    def add_embedding(self, word):\n",
    "        vector = torch.empty(1,self.embedding_dim)\n",
    "        torch.nn.init.uniform_(vector)\n",
    "        self.word2idx[word] = len(self.word2idx)\n",
    "        self.idx2word.append(word)\n",
    "        self.embedding_matrix = torch.cat([self.embedding_matrix,vector],0)\n",
    "        \n",
    "    def make_embedding(self):\n",
    "        self.get_model()\n",
    "        for i,word in enumerate(self.embedding.wv.key_to_index):\n",
    "            self.word2idx[word] = len(self.word2idx)\n",
    "            self.idx2word.append(word)\n",
    "            self.embedding_matrix.append(self.embedding.wv[word])\n",
    "        self.embedding_matrix = torch.tensor(self.embedding_matrix)\n",
    "        self.add_embedding(\"\")\n",
    "        return self.embedding_matrix\n",
    "    \n",
    "    def pad_sentence(self, sentence):\n",
    "        if len(sentence) > self.sen_len:\n",
    "            sentence = sentence[:self.sen_len]\n",
    "        else:\n",
    "            pad_len = self.sen_len - len(sentence)\n",
    "            for i in range(pad_len):\n",
    "                sentence.append(self.word2idx[\"\"])\n",
    "        assert len(sentence) == self.sen_len\n",
    "        return sentence\n",
    "    \n",
    "    def sentence_word2idx(self):\n",
    "        sen_list = list()\n",
    "        for i, sen in enumerate(self.sentences):\n",
    "            sentence_idx = list()\n",
    "            for word in sen:\n",
    "                if word in self.word2idx.keys():\n",
    "                    sentence_idx.append(self.word2idx[word])\n",
    "                else:\n",
    "                    sentence_idx.append(self.word2idx[\"\"])\n",
    "            sentence_idx = self.pad_sentence(sentence_idx)\n",
    "            sen_list.append(sentence_idx)\n",
    "        return torch.LongTensor(sen_list)\n",
    "    \n",
    "    def labels_to_tensor(self, y):\n",
    "        y = [int(label) for label in y]\n",
    "        return torch.LongTensor(y)\n",
    "    "
   ]
  },
  {
   "cell_type": "code",
   "execution_count": 117,
   "metadata": {},
   "outputs": [],
   "source": [
    "from torch.utils import data\n",
    "\n",
    "class CiperDataset(data.Dataset):\n",
    "    \n",
    "    def __init__(self,X,y):\n",
    "        self.data = X\n",
    "        self.label = y\n",
    "        \n",
    "    def __getitem__(self, idx):\n",
    "        if self.label is None:\n",
    "            return self.data[idx]\n",
    "        return self.data[idx], self.label[idx]\n",
    "    \n",
    "    def __len__(self):\n",
    "        return len(self.data)"
   ]
  },
  {
   "cell_type": "code",
   "execution_count": 118,
   "metadata": {},
   "outputs": [],
   "source": [
    "import torch\n",
    "from torch import nn\n",
    "\n",
    "# class LSTM_Net(nn.Module):\n",
    "#     def __init__(self, embedding, embedding_dim, hidden_dim, num_layers, dropout = 0.5, fix_embedding = True):\n",
    "#         super(LSTM_Net, self).__init__()\n",
    "#         self.embedding = torch.nn.Embedding(embedding.size(0),embedding.size(1))\n",
    "#         self.embedding_weight = torch.nn.Parameter(embedding)\n",
    "#         self.embedding.weight.requires_grad = False if fix_embedding else True\n",
    "#         self.embedding_dim = embedding.size(1)\n",
    "#         self.hidden_dim = hidden_dim\n",
    "#         self.num_layers = num_layers\n",
    "#         self.dropout = dropout\n",
    "#         self.lstm = nn.LSTM(embedding_dim, \n",
    "#                             hidden_dim, \n",
    "#                             num_layers = num_layers, \n",
    "#                             batch_first = True)\n",
    "#         self.classifier = nn.Sequential( nn.Dropout(dropout),\n",
    "#                                          nn.Linear(hidden_dim, 1),\n",
    "#                                          nn.Sigmoid() )\n",
    "#     def forward(self, inputs):\n",
    "#         inputs = self.embedding(inputs)\n",
    "#         x, _ = self.lstm(inputs, None)\n",
    "#         x = x[:, -1, :] \n",
    "#         x = self.classifier(x)\n",
    "#         return x\n",
    "\n",
    "class LSTM_Net(nn.Module):\n",
    "    def __init__(self, embedding, embedding_dim, hidden_dim, n_layers,\n",
    "                 bidirectional, dropout, fix_embedding = True):\n",
    "        super(LSTM_Net, self).__init__()\n",
    "        self.embedding = torch.nn.Embedding(embedding.size(0),embedding.size(1))\n",
    "        self.lstm = nn.LSTM(embedding_dim,\n",
    "                            hidden_dim,\n",
    "                            num_layers=n_layers,\n",
    "                            bidirectional=bidirectional,\n",
    "                            batch_first=True)\n",
    "        #self.fc1 = nn.Linear(hidden_dim1 * 2, hidden_dim2)\n",
    "        self.fc2 = nn.Linear(hidden_dim*2, 1)\n",
    "        self.sigmoid = nn.Sigmoid()\n",
    "        self.dropout = nn.Dropout(dropout)\n",
    "\n",
    "    def forward(self, inputs):\n",
    "        inputs = self.embedding(inputs)\n",
    "\n",
    "        packed_output, (hidden, cell) = self.lstm(inputs)\n",
    "        \n",
    "        cat = torch.cat((hidden[-2, :, :], hidden[-1, :, :]), dim=1)\n",
    "        drop = self.dropout(cat)\n",
    "        #dense1 = self.fc1(drop)\n",
    "        preds = self.fc2(drop)\n",
    "        rel = self.sigmoid(preds)\n",
    "        return rel\n",
    "    "
   ]
  },
  {
   "cell_type": "code",
   "execution_count": 119,
   "metadata": {},
   "outputs": [],
   "source": [
    "import torch\n",
    "from torch import nn\n",
    "import torch.optim as optim\n",
    "import torch.nn.functional as F\n",
    "\n",
    "def training(batch_size, n_epoch, lr, model_dir, train, valid, model, device):\n",
    "    \n",
    "    total = sum(p.numel() for p in model.parameters())\n",
    "    trainable = sum(p.numel() for p in model.parameters() if p.requires_grad)\n",
    "    model.train()\n",
    "    criterion = nn.BCELoss()\n",
    "    t_batch = len(train) \n",
    "    v_batch = len(valid) \n",
    "    optimizer = optim.Adam(model.parameters(), lr=lr)\n",
    "    total_loss, total_acc, best_acc = 0, 0, 0\n",
    "    for epoch in range(n_epoch):\n",
    "        total_loss, total_acc = 0, 0\n",
    "        for i, (inputs, labels) in enumerate(train):\n",
    "            inputs = inputs.to(device, dtype=torch.long)\n",
    "            labels = labels.to(device, dtype=torch.float)\n",
    "            optimizer.zero_grad()\n",
    "            outputs = model(inputs)\n",
    "            outputs = outputs.squeeze()\n",
    "            loss = criterion(outputs, labels)\n",
    "            loss.backward()\n",
    "            optimizer.step()\n",
    "            correct = evaluation(outputs, labels)\n",
    "            total_acc += (correct / batch_size)\n",
    "            total_loss += loss.item()\n",
    "            print('[ Epoch{}: {}/{} ] loss:{:.3f} acc:{:.3f} '.format(\n",
    "                epoch+1, i+1, t_batch, loss.item(), correct*100/batch_size), end='\\r')\n",
    "        print('\\n Train | Loss:{:.3f} Acc: {:.3f}'.format(total_loss/t_batch, total_acc/t_batch*100))\n",
    "        \n",
    "        #validation\n",
    "        model.eval()\n",
    "        print(\"valid\"+str(v_batch))\n",
    "        with torch.no_grad():\n",
    "            total_loss, total_acc = 0, 0\n",
    "            for i, (inputs, labels) in enumerate(valid):\n",
    "                inputs = inputs.to(device, dtype=torch.long) \n",
    "                labels = labels.to(device, dtype=torch.float)  \n",
    "                outputs = model(inputs) \n",
    "                outputs = outputs.squeeze() \n",
    "                loss = criterion(outputs, labels) \n",
    "                correct = evaluation(outputs, labels) \n",
    "                total_acc += (correct / batch_size)\n",
    "                total_loss += loss.item()\n",
    "                \n",
    "            print(\"Valid | Loss:{:.3f} Acc: {:.3f} \".format(total_loss/v_batch, total_acc/v_batch*100))\n",
    "            \n",
    "            if total_acc > best_acc:\n",
    "                best_acc = total_acc\n",
    "                torch.save(model, \"{}/ctc.model\".format(model_dir))\n",
    "                \n",
    "        print('-----------------------------------------')\n",
    "        model.train()"
   ]
  },
  {
   "cell_type": "code",
   "execution_count": 120,
   "metadata": {},
   "outputs": [],
   "source": [
    "def testing(batch_size, test_loader, model, device):\n",
    "    model.eval()\n",
    "    ret_output = []\n",
    "    with torch.no_grad():\n",
    "        for i, inputs in enumerate(test_loader):\n",
    "            inputs = inputs.to(device, dtype=torch.long)\n",
    "            outputs = model(inputs)\n",
    "            outputs = outputs.squeeze()\n",
    "            outputs[outputs>=0.5] = 1\n",
    "            outputs[outputs<0.5] = 0\n",
    "            ret_output += outputs.int().tolist()\n",
    "    \n",
    "    return ret_output"
   ]
  },
  {
   "cell_type": "code",
   "execution_count": 121,
   "metadata": {},
   "outputs": [
    {
     "name": "stdout",
     "output_type": "stream",
     "text": [
      "16220\n",
      "18247\n",
      "\n",
      "16220\n",
      "2027\n",
      "253\n",
      "31\n",
      "[ Epoch1: 253/253 ] loss:0.560 acc:65.625 \n",
      " Train | Loss:0.606 Acc: 66.360\n",
      "valid31\n",
      "Valid | Loss:0.514 Acc: 74.345 \n",
      "-----------------------------------------\n",
      "[ Epoch2: 253/253 ] loss:0.378 acc:84.375 \n",
      " Train | Loss:0.417 Acc: 81.874\n",
      "valid31\n",
      "Valid | Loss:0.434 Acc: 80.393 \n",
      "-----------------------------------------\n",
      "[ Epoch3: 253/253 ] loss:0.323 acc:87.500 \n",
      " Train | Loss:0.273 Acc: 89.495\n",
      "valid31\n",
      "Valid | Loss:0.374 Acc: 84.829 \n",
      "-----------------------------------------\n",
      "[ Epoch4: 253/253 ] loss:0.217 acc:92.188  \n",
      " Train | Loss:0.180 Acc: 93.423\n",
      "valid31\n",
      "Valid | Loss:0.381 Acc: 85.988 \n",
      "-----------------------------------------\n",
      "[ Epoch5: 253/253 ] loss:0.158 acc:95.312  \n",
      " Train | Loss:0.121 Acc: 95.695\n",
      "valid31\n",
      "Valid | Loss:0.425 Acc: 87.399 \n",
      "-----------------------------------------\n"
     ]
    }
   ],
   "source": [
    "import os\n",
    "import torch\n",
    "from torch import nn\n",
    "from gensim.models import word2vec\n",
    "\n",
    "def evaluation(outputs,labels):\n",
    "    outputs[outputs>=0.5] = 1\n",
    "    outputs[outputs<0.5] = 0\n",
    "    correct = torch.sum(torch.eq(outputs, labels)).item()\n",
    "    return correct\n",
    "\n",
    "device = torch.device(\"cpu\")\n",
    "\n",
    "sen_len = 30\n",
    "fix_embedding = True # fix embedding during training\n",
    "batch_size = 64\n",
    "epoch = 5\n",
    "lr = 0.001\n",
    "\n",
    "model_dir = \"./\"\n",
    "\n",
    "print(len(train_data))\n",
    "\n",
    "preprocess = Preprocess(train_data+dev_data, sen_len, path=\"./word2vec.model\")\n",
    "embedding = preprocess.make_embedding()\n",
    "\n",
    "data = preprocess.sentence_word2idx()\n",
    "label = preprocess.labels_to_tensor(train_label+dev_label)\n",
    "\n",
    "print(len(data))\n",
    "\n",
    "#model = LSTM_Net(embedding, embedding_dim=250, hidden_dim=250, num_layers=1, dropout=0.5, fix_embedding=fix_embedding)\n",
    "model = LSTM_Net(embedding, embedding_dim=250, hidden_dim=250,n_layers=3, bidirectional=True, dropout=0.5, fix_embedding=fix_embedding)\n",
    "model = model.to(device)\n",
    "\n",
    "X_train, X_dev, y_train, y_dev = data[:16220], data[16220:], label[:16220], label[16220:]\n",
    "\n",
    "print()\n",
    "\n",
    "train_dataset = CiperDataset(X=X_train, y=y_train)\n",
    "dev_dataset = CiperDataset(X=X_dev, y=y_dev)\n",
    "\n",
    "print(len(train_dataset))\n",
    "print(len(dev_dataset))\n",
    "\n",
    "train_loader = torch.utils.data.DataLoader(dataset = train_dataset,\n",
    "                                            batch_size = batch_size,\n",
    "                                            shuffle = True,\n",
    "                                            num_workers = 0,\n",
    "                                            drop_last = True)\n",
    "\n",
    "dev_loader = torch.utils.data.DataLoader(dataset = dev_dataset,\n",
    "                                            batch_size = batch_size,\n",
    "                                            shuffle = False,\n",
    "                                            num_workers = 0,\n",
    "                                            drop_last = True)\n",
    "\n",
    "print(len(train_loader))\n",
    "print(len(dev_loader))\n",
    "\n",
    "training(batch_size, epoch, lr, model_dir, train_loader, dev_loader, model, device)\n"
   ]
  },
  {
   "cell_type": "code",
   "execution_count": 122,
   "metadata": {},
   "outputs": [],
   "source": [
    "preprocess = Preprocess(test_data, sen_len, path=\"./word2vec.model\")\n",
    "embedding = preprocess.make_embedding()\n",
    "\n",
    "test_data = preprocess.sentence_word2idx()\n",
    "\n",
    "test_dataset = CiperDataset(X=test_data, y=None)\n",
    "\n",
    "test_loader = torch.utils.data.DataLoader(dataset = test_dataset,\n",
    "                                            batch_size = batch_size,\n",
    "                                            shuffle = False,\n",
    "                                            num_workers = 0)\n",
    "\n",
    "model = torch.load(\"./ctc.model\")\n",
    "\n",
    "results = testing(batch_size, test_loader, model, device)"
   ]
  },
  {
   "cell_type": "markdown",
   "metadata": {},
   "source": [
    "### Output Prediction Result File"
   ]
  },
  {
   "cell_type": "markdown",
   "metadata": {},
   "source": [
    "You will need to submit a prediction result file. It should have 2028 lines, every line should be either 0 or 1, which is your model's prediction on the respective test set instance."
   ]
  },
  {
   "cell_type": "code",
   "execution_count": 106,
   "metadata": {},
   "outputs": [],
   "source": [
    "# suppose you had your model's predictions on the 2028 test cases read from test_enc_unlabeled.tsv, and \n",
    "#those results are in the list called 'results'\n",
    "assert (len(results) == 2028)"
   ]
  },
  {
   "cell_type": "code",
   "execution_count": 107,
   "metadata": {},
   "outputs": [],
   "source": [
    "# make sure the results are not float numbers, but intergers 0 and 1\n",
    "results = [int(x) for x in results]"
   ]
  },
  {
   "cell_type": "code",
   "execution_count": 108,
   "metadata": {},
   "outputs": [],
   "source": [
    "# write your prediction results to 'upload_predictions.txt' and upload that later\n",
    "with open('upload_predictions.txt', 'w', encoding = 'utf-8') as fp:\n",
    "    for x in results:\n",
    "        fp.write(str(x) + '\\n')"
   ]
  },
  {
   "cell_type": "code",
   "execution_count": null,
   "metadata": {},
   "outputs": [],
   "source": []
  }
 ],
 "metadata": {
  "kernelspec": {
   "display_name": "Python 3 (ipykernel)",
   "language": "python",
   "name": "python3"
  },
  "language_info": {
   "codemirror_mode": {
    "name": "ipython",
    "version": 3
   },
   "file_extension": ".py",
   "mimetype": "text/x-python",
   "name": "python",
   "nbconvert_exporter": "python",
   "pygments_lexer": "ipython3",
   "version": "3.9.7"
  }
 },
 "nbformat": 4,
 "nbformat_minor": 4
}
